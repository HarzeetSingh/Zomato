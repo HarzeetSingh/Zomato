{
 "cells": [
  {
   "cell_type": "code",
   "execution_count": 16,
   "metadata": {},
   "outputs": [],
   "source": [
    "import selenium\n",
    "from selenium import webdriver\n",
    "import pandas as pd\n",
    "import re"
   ]
  },
  {
   "cell_type": "code",
   "execution_count": 34,
   "metadata": {},
   "outputs": [],
   "source": [
    "browser=webdriver.Chrome('C:/Users/Administrator/chromedriver.exe')"
   ]
  },
  {
   "cell_type": "code",
   "execution_count": 35,
   "metadata": {},
   "outputs": [],
   "source": [
    "browser.get('https://www.zomato.com/bangalore/great-food-no-bull')"
   ]
  },
  {
   "cell_type": "code",
   "execution_count": 36,
   "metadata": {},
   "outputs": [
    {
     "name": "stdout",
     "output_type": "stream",
     "text": [
      "141\n"
     ]
    }
   ],
   "source": [
    "restaurants=browser.find_elements_by_css_selector('div.col-s-8.col-l-1by3')\n",
    "print(len(restaurants))"
   ]
  },
  {
   "cell_type": "code",
   "execution_count": 37,
   "metadata": {},
   "outputs": [],
   "source": [
    "def get_reviews(var,selector,attribute):\n",
    "    try:\n",
    "        tag=var.find_element_by_css_selector(selector)\n",
    "        tag=tag.get_attribute(attribute)\n",
    "    except: \n",
    "        tag=0\n",
    "    return tag"
   ]
  },
  {
   "cell_type": "code",
   "execution_count": 38,
   "metadata": {},
   "outputs": [],
   "source": [
    "url_info=pd.DataFrame(columns=['Restaurant Name','Restaurant ID','URL'])"
   ]
  },
  {
   "cell_type": "code",
   "execution_count": 39,
   "metadata": {},
   "outputs": [
    {
     "data": {
      "text/html": [
       "<div>\n",
       "<style scoped>\n",
       "    .dataframe tbody tr th:only-of-type {\n",
       "        vertical-align: middle;\n",
       "    }\n",
       "\n",
       "    .dataframe tbody tr th {\n",
       "        vertical-align: top;\n",
       "    }\n",
       "\n",
       "    .dataframe thead th {\n",
       "        text-align: right;\n",
       "    }\n",
       "</style>\n",
       "<table border=\"1\" class=\"dataframe\">\n",
       "  <thead>\n",
       "    <tr style=\"text-align: right;\">\n",
       "      <th></th>\n",
       "      <th>Restaurant Name</th>\n",
       "      <th>Restaurant ID</th>\n",
       "      <th>URL</th>\n",
       "    </tr>\n",
       "  </thead>\n",
       "  <tbody>\n",
       "    <tr>\n",
       "      <th>0</th>\n",
       "      <td>Red Rhino</td>\n",
       "      <td>18492910</td>\n",
       "      <td>https://www.zomato.com/bangalore/red-rhino-whi...</td>\n",
       "    </tr>\n",
       "    <tr>\n",
       "      <th>1</th>\n",
       "      <td>Bologna</td>\n",
       "      <td>18682433</td>\n",
       "      <td>https://www.zomato.com/bangalore/bologna-indir...</td>\n",
       "    </tr>\n",
       "    <tr>\n",
       "      <th>2</th>\n",
       "      <td>1131 Bar + Kitchen</td>\n",
       "      <td>18580202</td>\n",
       "      <td>https://www.zomato.com/bangalore/1131-bar-kitc...</td>\n",
       "    </tr>\n",
       "    <tr>\n",
       "      <th>3</th>\n",
       "      <td>Roots</td>\n",
       "      <td>18270163</td>\n",
       "      <td>https://www.zomato.com/bangalore/roots-koraman...</td>\n",
       "    </tr>\n",
       "    <tr>\n",
       "      <th>4</th>\n",
       "      <td>Brooks and Bonds Brewery</td>\n",
       "      <td>18605417</td>\n",
       "      <td>https://www.zomato.com/bangalore/brooks-and-bo...</td>\n",
       "    </tr>\n",
       "  </tbody>\n",
       "</table>\n",
       "</div>"
      ],
      "text/plain": [
       "            Restaurant Name Restaurant ID  \\\n",
       "0                 Red Rhino      18492910   \n",
       "1                   Bologna      18682433   \n",
       "2        1131 Bar + Kitchen      18580202   \n",
       "3                     Roots      18270163   \n",
       "4  Brooks and Bonds Brewery      18605417   \n",
       "\n",
       "                                                 URL  \n",
       "0  https://www.zomato.com/bangalore/red-rhino-whi...  \n",
       "1  https://www.zomato.com/bangalore/bologna-indir...  \n",
       "2  https://www.zomato.com/bangalore/1131-bar-kitc...  \n",
       "3  https://www.zomato.com/bangalore/roots-koraman...  \n",
       "4  https://www.zomato.com/bangalore/brooks-and-bo...  "
      ]
     },
     "execution_count": 39,
     "metadata": {},
     "output_type": "execute_result"
    }
   ],
   "source": [
    "for restaurant in restaurants:\n",
    "    \n",
    "    name=get_reviews(restaurant,'div.res_title.zblack.bold','title')\n",
    "    name=name.lstrip()\n",
    "    \n",
    "    r_id=get_reviews(restaurant,'div.relative.top-res-box.entity-ads-snippet-track','data-res-id')\n",
    "    \n",
    "    url=get_reviews(restaurant,'a','href')\n",
    "  \n",
    "    rest1={'Restaurant Name':name,'Restaurant ID':r_id,'URL':url}\n",
    "    url_info=url_info.append(rest1,ignore_index=True)\n",
    "url_info=url_info.head(55)\n",
    "url_info.head()"
   ]
  },
  {
   "cell_type": "code",
   "execution_count": 40,
   "metadata": {},
   "outputs": [],
   "source": [
    "restaurant_info=pd.DataFrame(columns=['Restaurant Name','Restaurant ID','User Name','User ID','Rating'])"
   ]
  },
  {
   "cell_type": "code",
   "execution_count": 41,
   "metadata": {},
   "outputs": [
    {
     "name": "stdout",
     "output_type": "stream",
     "text": [
      "1\n",
      "2\n",
      "3\n",
      "4\n",
      "5\n",
      "6\n",
      "7\n",
      "8\n",
      "9\n",
      "10\n",
      "11\n",
      "12\n",
      "13\n",
      "14\n",
      "15\n",
      "16\n",
      "17\n",
      "18\n",
      "19\n",
      "20\n",
      "21\n",
      "22\n",
      "23\n",
      "24\n",
      "25\n",
      "26\n",
      "27\n",
      "28\n",
      "29\n",
      "30\n",
      "31\n",
      "32\n",
      "33\n",
      "34\n",
      "35\n",
      "36\n",
      "37\n",
      "38\n",
      "39\n",
      "40\n",
      "41\n",
      "42\n",
      "43\n",
      "44\n",
      "45\n",
      "46\n",
      "47\n",
      "48\n",
      "49\n",
      "50\n",
      "51\n",
      "52\n",
      "53\n",
      "54\n",
      "55\n"
     ]
    }
   ],
   "source": [
    "c=0\n",
    "for i in range(len(url_info)):\n",
    "    c=c+1\n",
    "    print(c)\n",
    "    browser.get(url_info['URL'].iloc[i])\n",
    "    try:\n",
    "        r_id = url_info['Restaurant ID'].iloc[i]\n",
    "        name=browser.find_element_by_css_selector('h1.res-name.left.mb0')\n",
    "        name=name.find_element_by_css_selector('a')\n",
    "        name=name.get_attribute('innerHTML').lstrip()\n",
    "        name=re.sub('amp;','',name)\n",
    "    except:\n",
    "        r_id=None\n",
    "        continue\n",
    "    if name in url_info['Restaurant Name'].iloc[i]:\n",
    "        \n",
    "        while True:\n",
    "            try:\n",
    "                reviews=browser.find_elements_by_css_selector('div.ui.segments.res-review-body.res-review.clearfix.js-activity-root.mbti.item-to-hide-parent.stupendousact') \n",
    "                for review in reviews:\n",
    "                    try:\n",
    "                        user_name=review.find_element_by_css_selector('div.header.nowrap.ui.left')\n",
    "                        user_name=user_name.find_element_by_css_selector('a')\n",
    "                        user_name=user_name.get_attribute('innerHTML')\n",
    "                        user_name=user_name.strip()\n",
    "                        user_id=review.find_element_by_css_selector('div.header.nowrap.ui.left')\n",
    "                        user_id=user_id.find_element_by_css_selector('a')\n",
    "                        user_id=user_id.get_attribute('data-entity_id')\n",
    "                    except:\n",
    "                        user_name=None\n",
    "                        user_id=None\n",
    "\n",
    "                    try:\n",
    "                        rating=review.find_element_by_css_selector('div.ttupper.fs12px.left.bold.zdhl2.tooltip')\n",
    "                        rating=rating.get_attribute('aria-label')\n",
    "                    except:\n",
    "                        rating=None\n",
    "                    rating=re.sub('Rated','',rating)\n",
    "\n",
    "                    rest={'Restaurant Name':name,'Restaurant ID':r_id,'User Name':user_name,'User ID':user_id,'Rating':rating}\n",
    "                    restaurant_info=restaurant_info.append(rest,ignore_index=True)\n",
    "                browser.find_element_by_css_selector('div.ui.segment.clearfix.zs-load-more.res-page-load-more').click()\n",
    "            except:\n",
    "                break"
   ]
  },
  {
   "cell_type": "code",
   "execution_count": 42,
   "metadata": {},
   "outputs": [
    {
     "data": {
      "text/plain": [
       "(9695, 5)"
      ]
     },
     "execution_count": 42,
     "metadata": {},
     "output_type": "execute_result"
    }
   ],
   "source": [
    "restaurant_info.to_csv(\"Reviews.csv\",index=False)\n",
    "restaurant_info.shape"
   ]
  },
  {
   "cell_type": "markdown",
   "metadata": {},
   "source": [
    "# Number of distinct restaurants"
   ]
  },
  {
   "cell_type": "code",
   "execution_count": 43,
   "metadata": {},
   "outputs": [
    {
     "data": {
      "text/plain": [
       "9"
      ]
     },
     "execution_count": 43,
     "metadata": {},
     "output_type": "execute_result"
    }
   ],
   "source": [
    "restaurant_info['Restaurant Name'].nunique()"
   ]
  },
  {
   "cell_type": "markdown",
   "metadata": {},
   "source": [
    "## Model buliding"
   ]
  },
  {
   "cell_type": "code",
   "execution_count": null,
   "metadata": {},
   "outputs": [],
   "source": [
    "from sklearn.preprocessing import StandardScaler \n",
    "from sklearn.metrics.pairwise import cosine_similarity\n",
    "from surprise import KNNWithZScore\n",
    "from surprise import SVD, dataset,Reader\n",
    "import pandas as pd\n",
    "import numpy as np"
   ]
  },
  {
   "cell_type": "code",
   "execution_count": null,
   "metadata": {},
   "outputs": [],
   "source": [
    "review=pd.read_csv('C:/Users/Administrator/Desktop\\Machine learning/assignment/Reviews.csv')\n",
    "review.head()"
   ]
  },
  {
   "cell_type": "code",
   "execution_count": null,
   "metadata": {},
   "outputs": [],
   "source": [
    "scaler=StandardScaler()\n",
    "ui_review_matrix=review.pivot_table(columns='Restaurant ID',index='User ID',values='Rating')\n",
    "null_matrix=ui_review_matrix\n",
    "scaler.fit(ui_review_matrix)\n",
    "# ui_review_matrix=ui_review_matrix.apply(lambda x: ((x-x.mean)/x.std()),axis=1).fillna(0)\n",
    "ui_review_matrix=pd.DataFrame(scaler.transform(ui_review_matrix),columns=ui_review_matrix.columns,index=ui_review_matrix.index)\n",
    "ui_review_matrix=ui_review_matrix.fillna(0)\n",
    "ui_review_matrix.head()"
   ]
  },
  {
   "cell_type": "code",
   "execution_count": null,
   "metadata": {},
   "outputs": [],
   "source": [
    "sim_matrix=pd.DataFrame(cosine_similarity(ui_review_matrix),index=ui_review_matrix.index,\n",
    "                       columns=ui_review_matrix.index)\n",
    "sim_matrix.head()"
   ]
  },
  {
   "cell_type": "code",
   "execution_count": null,
   "metadata": {},
   "outputs": [],
   "source": [
    "def recommend(userid):\n",
    "    neigh=sim_matrix[userid].drop(userid).sort_values(ascending=False).head(5).index\n",
    "    neigh_matrix=ui_review_matrix.loc[neigh]\n",
    "    user_restaraunt=null_matrix.loc[userid]\n",
    "    not_gone=user_restaraunt[pd.isnull(user_restaraunt)]\n",
    "    pred=neigh_matrix.mean()[not_gone.index]\n",
    "    recommend=pred.sort_values(ascending=False).head().index\n",
    "    data=review[review['Restaurant ID'].isin(recommend)]['Restaurant Name'].unique()\n",
    "    return pd.DataFrame(data).rename(columns={0:'Restaraunt Name'})"
   ]
  },
  {
   "cell_type": "code",
   "execution_count": null,
   "metadata": {},
   "outputs": [],
   "source": [
    "recommend(11876)"
   ]
  },
  {
   "cell_type": "code",
   "execution_count": null,
   "metadata": {},
   "outputs": [],
   "source": []
  }
 ],
 "metadata": {
  "kernelspec": {
   "display_name": "Python 3",
   "language": "python",
   "name": "python3"
  },
  "language_info": {
   "codemirror_mode": {
    "name": "ipython",
    "version": 3
   },
   "file_extension": ".py",
   "mimetype": "text/x-python",
   "name": "python",
   "nbconvert_exporter": "python",
   "pygments_lexer": "ipython3",
   "version": "3.6.4"
  }
 },
 "nbformat": 4,
 "nbformat_minor": 2
}
